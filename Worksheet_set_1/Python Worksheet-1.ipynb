{
 "cells": [
  {
   "cell_type": "code",
   "execution_count": 2,
   "id": "ab37c6cd",
   "metadata": {},
   "outputs": [
    {
     "name": "stdout",
     "output_type": "stream",
     "text": [
      "Enter a non-negative integer: 12\n",
      "The factorial of 12 is 479001600\n"
     ]
    }
   ],
   "source": [
    "#Write a python program to find the factorial of a number.\n",
    "number = int(input(\"Enter a non-negative integer: \"))\n",
    "if number < 0:\n",
    "    print(\"Factorial is not defined for negative numbers.\")\n",
    "elif number == 0:\n",
    "    fact = 1\n",
    "else:\n",
    "    fact = 1\n",
    "    for i in range(1, number + 1):\n",
    "        fact *= i\n",
    "print(\"The factorial of\", number, \"is\", fact)"
   ]
  },
  {
   "cell_type": "code",
   "execution_count": 4,
   "id": "6f942cbd",
   "metadata": {},
   "outputs": [
    {
     "name": "stdout",
     "output_type": "stream",
     "text": [
      "Enter a positive integer: 11\n",
      "11 is a prime number.\n"
     ]
    }
   ],
   "source": [
    "#Write a python program to find whether a number is prime or composite.\n",
    "number = int(input(\"Enter a positive integer: \"))\n",
    "\n",
    "if number <= 1:\n",
    "    print(number, \"is neither prime nor composite.\")\n",
    "else:\n",
    "    is_prime = True\n",
    "    for i in range(2, int(number**0.5) + 1):\n",
    "        if number % i == 0:\n",
    "            is_prime = False\n",
    "            break\n",
    "\n",
    "    if is_prime:\n",
    "        print(number, \"is a prime number.\")\n",
    "    else:\n",
    "        print(number, \"is a composite number.\")"
   ]
  },
  {
   "cell_type": "code",
   "execution_count": 5,
   "id": "7d036f0c",
   "metadata": {},
   "outputs": [
    {
     "name": "stdout",
     "output_type": "stream",
     "text": [
      "Enter a string: tapat\n",
      "'tapat' is a palindrome.\n"
     ]
    }
   ],
   "source": [
    "#Write a python program to check whether a given string is palindrome or not.\n",
    "text = input(\"Enter a string: \")\n",
    "clean_text = \"\".join(char.lower() for char in text if char.isalnum())\n",
    "\n",
    "is_palindrome = clean_text == clean_text[::-1]\n",
    "\n",
    "if is_palindrome:\n",
    "    print(f\"'{text}' is a palindrome.\")\n",
    "else:\n",
    "    print(f\"'{text}' is not a palindrome.\")"
   ]
  },
  {
   "cell_type": "code",
   "execution_count": 6,
   "id": "9accc1b6",
   "metadata": {},
   "outputs": [
    {
     "name": "stdout",
     "output_type": "stream",
     "text": [
      "Enter the first side: 12\n",
      "Enter the second side: 14\n",
      "The third side of the triangle is: 7.211102550927978\n"
     ]
    }
   ],
   "source": [
    "#Write a Python program to get the third side of right-angled triangle from two given sides.\n",
    "import math\n",
    "side1 = float(input(\"Enter the first side: \"))\n",
    "side2 = float(input(\"Enter the second side: \"))\n",
    "if side1 <= 0 or side2 <= 0:\n",
    "    print(\"Invalid input: Sides must be positive numbers.\")\n",
    "else:\n",
    "    hypotenuse = max(side1, side2)\n",
    "    other_side = min(side1, side2)\n",
    "    third_side = math.sqrt(hypotenuse**2 - other_side**2)\n",
    "    print(\"The third side of the triangle is:\", third_side)"
   ]
  },
  {
   "cell_type": "code",
   "execution_count": 7,
   "id": "48599620",
   "metadata": {},
   "outputs": [
    {
     "name": "stdout",
     "output_type": "stream",
     "text": [
      "Enter a string: tapas\n",
      "Character 't' appears 1 times.\n",
      "Character 'a' appears 2 times.\n",
      "Character 'p' appears 1 times.\n",
      "Character 's' appears 1 times.\n"
     ]
    }
   ],
   "source": [
    "#Write a python program to print the frequency of each of the characters present in a given string.\n",
    "text = input(\"Enter a string: \")\n",
    "\n",
    "# Create a dictionary to store character frequencies\n",
    "char_counts = {}\n",
    "\n",
    "# Iterate through each character in the string\n",
    "for char in text:\n",
    "    # Lowercase the character for case-insensitive counting\n",
    "    lower_char = char.lower()\n",
    "\n",
    "    # Check if the character exists in the dictionary\n",
    "    if lower_char in char_counts:\n",
    "        # Increment the count if it exists\n",
    "        char_counts[lower_char] += 1\n",
    "    else:\n",
    "        # Add the character to the dictionary with a count of 1\n",
    "        char_counts[lower_char] = 1\n",
    "\n",
    "# Print the frequency of each character\n",
    "for char, count in char_counts.items():\n",
    "    print(f\"Character '{char}' appears {count} times.\")"
   ]
  },
  {
   "cell_type": "code",
   "execution_count": null,
   "id": "db4cb819",
   "metadata": {},
   "outputs": [],
   "source": []
  }
 ],
 "metadata": {
  "kernelspec": {
   "display_name": "Python 3 (ipykernel)",
   "language": "python",
   "name": "python3"
  },
  "language_info": {
   "codemirror_mode": {
    "name": "ipython",
    "version": 3
   },
   "file_extension": ".py",
   "mimetype": "text/x-python",
   "name": "python",
   "nbconvert_exporter": "python",
   "pygments_lexer": "ipython3",
   "version": "3.10.9"
  }
 },
 "nbformat": 4,
 "nbformat_minor": 5
}
