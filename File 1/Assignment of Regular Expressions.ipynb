{
 "cells": [
  {
   "cell_type": "code",
   "execution_count": 3,
   "id": "6189f227",
   "metadata": {},
   "outputs": [
    {
     "name": "stdout",
     "output_type": "stream",
     "text": [
      "Enter the text: 'Python:Exercises::PHP:exercises'\n",
      "'Python:Exercises::PHP:exercises'\n"
     ]
    }
   ],
   "source": [
    "#QUESTION:01\n",
    "import re\n",
    "sample_text=input(\"Enter the text: \")\n",
    "test=re.sub(\"[ ,.]\",\":\",sample_text)\n",
    "print(test)"
   ]
  },
  {
   "cell_type": "code",
   "execution_count": 64,
   "id": "48df1fbf",
   "metadata": {},
   "outputs": [
    {
     "name": "stdout",
     "output_type": "stream",
     "text": [
      "         SUMMARY\n",
      "0    hello world\n",
      "1           test\n",
      "2  four five six\n"
     ]
    }
   ],
   "source": [
    "#QUESTION:02\n",
    "import pandas as pd\n",
    "import re\n",
    "creating_dictionary={'SUMMARY': ['hello, world!', 'xxxxx test', '123four, five:;six...']}\n",
    "creating_dataframe=pd.DataFrame(data)\n",
    "creating_dataframe['SUMMARY']=creating_dataframe['SUMMARY'].str.replace('[^a-zA-W\\s]', '',regex=True)\n",
    "print(creating_dataframe)"
   ]
  },
  {
   "cell_type": "code",
   "execution_count": 66,
   "id": "41358720",
   "metadata": {},
   "outputs": [
    {
     "name": "stdout",
     "output_type": "stream",
     "text": [
      "Enter a text: Hello I am Tapas now I am pursuing my intership program at Flip Robo technologies.\n",
      "['Hello', 'Tapas', 'pursuing', 'intership', 'program', 'Flip', 'Robo', 'technologies']\n"
     ]
    }
   ],
   "source": [
    "#QUESTION:03\n",
    "import re\n",
    "input_text = input(\"Enter a text: \")\n",
    "pattern = re.compile(r'\\b\\w{4,}\\b')\n",
    "matches = pattern.findall(input_text)\n",
    "print(matches)"
   ]
  },
  {
   "cell_type": "code",
   "execution_count": 67,
   "id": "a762f0fc",
   "metadata": {},
   "outputs": [
    {
     "name": "stdout",
     "output_type": "stream",
     "text": [
      "Enter a text: Hello I am Tapas now I am pursuing my intership program at Flip Robo technologies.\n",
      "['Hello', 'Tapas', 'now', 'Flip', 'Robo']\n"
     ]
    }
   ],
   "source": [
    "#QUESTION:04\n",
    "import re\n",
    "input_text = input(\"Enter a text: \")\n",
    "pattern = re.compile(r'\\b\\w{3,5}\\b')\n",
    "matches = pattern.findall(input_text)\n",
    "print(matches)"
   ]
  },
  {
   "cell_type": "code",
   "execution_count": 89,
   "id": "d75a0732",
   "metadata": {},
   "outputs": [
    {
     "name": "stdout",
     "output_type": "stream",
     "text": [
      "example.com\n",
      "hr@fliprobo.com\n",
      "github.com\n",
      "Hello Data Science World\n",
      "Data Scientist\n"
     ]
    }
   ],
   "source": [
    "#QUESTION:05\n",
    "import re\n",
    "input_list = [\"example(.com)\", \"hr@fliprobo(.com)\", \"github(.com)\", \"Hello (Data Science World)\", \"Data (Scientist)\"]\n",
    "pattern = re.compile(r'[()]|')\n",
    "cleaned_list = [pattern.sub('', string) for string in input_list]\n",
    "for item in cleaned_list:\n",
    "    print(item)"
   ]
  },
  {
   "cell_type": "code",
   "execution_count": 33,
   "id": "38042faa",
   "metadata": {},
   "outputs": [
    {
     "name": "stdout",
     "output_type": "stream",
     "text": [
      "Processed text: [\"example \", \"hr@fliprobo \", \"github \", \"Hello \", \"Data \"]\n"
     ]
    }
   ],
   "source": [
    "#QUESTION:06\n",
    "import re\n",
    "pattern = r\"\\([^)]+\\)\"\n",
    "with open(\"Question06.csv\", \"r\") as f:\n",
    "    text = f.read()\n",
    "    processed_text = re.sub(pattern, \"\", text)\n",
    "    print(f\"Processed text: {processed_text}\")\n",
    "    with open(\"processed_text.csv\", \"w\") as f:\n",
    "        f.write(processed_text)"
   ]
  },
  {
   "cell_type": "code",
   "execution_count": 93,
   "id": "a58e761a",
   "metadata": {},
   "outputs": [
    {
     "name": "stdout",
     "output_type": "stream",
     "text": [
      "['Importance', 'Of', 'Regular', 'Expressions', 'In', 'Python']\n"
     ]
    }
   ],
   "source": [
    "#QUESTION:07\n",
    "import re\n",
    "input_string = \"ImportanceOfRegularExpressionsInPython\"\n",
    "word_list = re.findall(r'[A-Z][a-z]*', input_string)\n",
    "print(word_list)"
   ]
  },
  {
   "cell_type": "code",
   "execution_count": 94,
   "id": "17f9dac0",
   "metadata": {},
   "outputs": [
    {
     "name": "stdout",
     "output_type": "stream",
     "text": [
      "RegularExpression 1IsAn 2ImportantTopic 3InPython\n"
     ]
    }
   ],
   "source": [
    "#QUESTION:08\n",
    "import re\n",
    "input_string = \"RegularExpression1IsAn2ImportantTopic3InPython\"\n",
    "formatted_string = re.sub(r'(?<=\\D)(\\d)', r' \\1', input_string)\n",
    "print(formatted_string)"
   ]
  },
  {
   "cell_type": "code",
   "execution_count": 100,
   "id": "71ad9e40",
   "metadata": {},
   "outputs": [
    {
     "name": "stdout",
     "output_type": "stream",
     "text": [
      "RegularExpression 1 IsAn 2 ImportantTopic 3 InPython\n"
     ]
    }
   ],
   "source": [
    "#QUESTION:09\n",
    "import re\n",
    "input_string = \"RegularExpression1IsAn2ImportantTopic3InPython\"\n",
    "formatted_string = re.sub(r'(\\d)', r' \\1 ', input_string)\n",
    "print(formatted_string)"
   ]
  },
  {
   "cell_type": "code",
   "execution_count": 22,
   "id": "f24c08f3",
   "metadata": {},
   "outputs": [
    {
     "name": "stdout",
     "output_type": "stream",
     "text": [
      "         Country                           Region  Happiness Rank  \\\n",
      "0    Switzerland                   Western Europe               1   \n",
      "1        Iceland                   Western Europe               2   \n",
      "2        Denmark                   Western Europe               3   \n",
      "3         Norway                   Western Europe               4   \n",
      "4         Canada                    North America               5   \n",
      "..           ...                              ...             ...   \n",
      "153       Rwanda               Sub-Saharan Africa             154   \n",
      "154        Benin               Sub-Saharan Africa             155   \n",
      "155        Syria  Middle East and Northern Africa             156   \n",
      "156      Burundi               Sub-Saharan Africa             157   \n",
      "157         Togo               Sub-Saharan Africa             158   \n",
      "\n",
      "     Happiness Score  Standard Error  Economy (GDP per Capita)   Family  \\\n",
      "0              7.587         0.03411                   1.39651  1.34951   \n",
      "1              7.561         0.04884                   1.30232  1.40223   \n",
      "2              7.527         0.03328                   1.32548  1.36058   \n",
      "3              7.522         0.03880                   1.45900  1.33095   \n",
      "4              7.427         0.03553                   1.32629  1.32261   \n",
      "..               ...             ...                       ...      ...   \n",
      "153            3.465         0.03464                   0.22208  0.77370   \n",
      "154            3.340         0.03656                   0.28665  0.35386   \n",
      "155            3.006         0.05015                   0.66320  0.47489   \n",
      "156            2.905         0.08658                   0.01530  0.41587   \n",
      "157            2.839         0.06727                   0.20868  0.13995   \n",
      "\n",
      "     Health (Life Expectancy)  Freedom  Trust (Government Corruption)  \\\n",
      "0                     0.94143  0.66557                        0.41978   \n",
      "1                     0.94784  0.62877                        0.14145   \n",
      "2                     0.87464  0.64938                        0.48357   \n",
      "3                     0.88521  0.66973                        0.36503   \n",
      "4                     0.90563  0.63297                        0.32957   \n",
      "..                        ...      ...                            ...   \n",
      "153                   0.42864  0.59201                        0.55191   \n",
      "154                   0.31910  0.48450                        0.08010   \n",
      "155                   0.72193  0.15684                        0.18906   \n",
      "156                   0.22396  0.11850                        0.10062   \n",
      "157                   0.28443  0.36453                        0.10731   \n",
      "\n",
      "     Generosity  Dystopia Residual first_five_letters  \n",
      "0       0.29678            2.51738             Switze  \n",
      "1       0.43630            2.70201             Icelan  \n",
      "2       0.34139            2.49204             Denmar  \n",
      "3       0.34699            2.46531             Norway  \n",
      "4       0.45811            2.45176             Canada  \n",
      "..          ...                ...                ...  \n",
      "153     0.22628            0.67042             Rwanda  \n",
      "154     0.18260            1.63328              Benin  \n",
      "155     0.47179            0.32858              Syria  \n",
      "156     0.19727            1.83302             Burund  \n",
      "157     0.16681            1.56726               Togo  \n",
      "\n",
      "[158 rows x 13 columns]\n"
     ]
    }
   ],
   "source": [
    "#QUESTION:10\n",
    "import pandas as pd\n",
    "df = pd.read_csv(\"Question10.csv\")\n",
    "df[\"first_five_letters\"] = df[\"Country\"].str[:6]\n",
    "print(df)"
   ]
  },
  {
   "cell_type": "code",
   "execution_count": 99,
   "id": "19c70955",
   "metadata": {},
   "outputs": [
    {
     "name": "stdout",
     "output_type": "stream",
     "text": [
      "True\n"
     ]
    }
   ],
   "source": [
    "#QUESTION:11\n",
    "import re\n",
    "input_string = \"Hello123_Fliprobo\"\n",
    "pattern = re.compile(r'^[a-zA-Z0-9_]+$')\n",
    "match_result = bool(pattern.match(input_string))\n",
    "print(match_result)"
   ]
  },
  {
   "cell_type": "code",
   "execution_count": 15,
   "id": "8d1e38bc",
   "metadata": {},
   "outputs": [
    {
     "name": "stdout",
     "output_type": "stream",
     "text": [
      "The string 8637284595Tapas starts with the specific number\n"
     ]
    }
   ],
   "source": [
    "#QUESTION:12\n",
    "import re\n",
    "\n",
    "string = \"8637284595Tapas\"\n",
    "regex = f\"^[0-9]\"\n",
    "if re.match(regex, string):\n",
    "    print(\"The string \" + string +\" starts with the specific number\")\n",
    "else:\n",
    "    print(\"The string \" + string +\" does not start with the specific number\")"
   ]
  },
  {
   "cell_type": "code",
   "execution_count": 18,
   "id": "e7fdf711",
   "metadata": {},
   "outputs": [
    {
     "name": "stdout",
     "output_type": "stream",
     "text": [
      "\n",
      "Original IP: 001.002.003.004\n",
      "Cleaned IP: 1.2.3.4\n",
      "Leading zeros removed.\n",
      "\n",
      "Original IP: 192.168.1.1\n",
      "Cleaned IP: 192.168.1.1\n",
      "No leading zeros to remove.\n",
      "\n",
      "Original IP: 010.020.030.040\n",
      "Cleaned IP: 10.20.30.40\n",
      "Leading zeros removed.\n"
     ]
    }
   ],
   "source": [
    "#QUESTION:13\n",
    "import re\n",
    "ip_addresses = [\"001.002.003.004\", \"192.168.1.1\", \"010.020.030.040\"]\n",
    "regex = r\"\\b0+\"\n",
    "for ip_address in ip_addresses:\n",
    "    print(f\"\\nOriginal IP: {ip_address}\")\n",
    "    clean_ip_address = re.sub(regex, \"\", ip_address)\n",
    "    print(f\"Cleaned IP: {clean_ip_address}\")\n",
    "    if ip_address != clean_ip_address:\n",
    "    print(f\"Leading zeros removed.\")\n",
    "    else:\n",
    "    print(\"No leading zeros to remove.\")"
   ]
  },
  {
   "cell_type": "code",
   "execution_count": 25,
   "id": "7c212d92",
   "metadata": {},
   "outputs": [
    {
     "name": "stdout",
     "output_type": "stream",
     "text": [
      "Matched date: August 15 1947\n"
     ]
    }
   ],
   "source": [
    "#QUESTION:14\n",
    "import re\n",
    "with open(\"Question14.csv\", \"r\") as f:\n",
    "    text = f.read()\n",
    "    pattern = r\"(?P<month>\\w+)\\s+(?P<day>\\d+)(?:th)?\\s+(?P<year>\\d{4})\"\n",
    "    matches = re.findall(pattern, text)\n",
    "    if matches:\n",
    "        for match in matches:\n",
    "            print(f\"Matched date: {match[0]} {match[1]} {match[2]}\")\n",
    "    else:\n",
    "        print(\"No dates found in the text.\")"
   ]
  },
  {
   "cell_type": "code",
   "execution_count": 2,
   "id": "4dfd2d8f",
   "metadata": {},
   "outputs": [
    {
     "name": "stdout",
     "output_type": "stream",
     "text": [
      "fox words is in String\n",
      "dog words is in String\n",
      "horse words is not in string\n"
     ]
    }
   ],
   "source": [
    "#QUESTION:15\n",
    "import re  \n",
    "patterns = [ 'fox', 'dog', 'horse' ] \n",
    "text = 'The quick brown fox jumps over the lazy dog.' \n",
    "for pattern in patterns:\n",
    "    if re.search(pattern,  text):\n",
    "        print('%s words is in String' %pattern)\n",
    "    else:\n",
    "        print('%s words is not in string' %pattern)"
   ]
  },
  {
   "cell_type": "code",
   "execution_count": 29,
   "id": "6421cd3a",
   "metadata": {},
   "outputs": [
    {
     "name": "stdout",
     "output_type": "stream",
     "text": [
      "Found 'fox' at positions: (16, 19)\n"
     ]
    }
   ],
   "source": [
    "#QUESTION:16\n",
    "import re\n",
    "text = \"The quick brown fox jumps over the lazy dog.\"\n",
    "pattern = \"fox\"\n",
    "matches = re.findall(pattern, text)\n",
    "if matches:\n",
    "    for match in matches:\n",
    "        start_position = text.find(match)\n",
    "        end_position = start_position + len(match)\n",
    "        print(f\"Found '{match}' at positions: ({start_position}, {end_position})\")\n",
    "else:\n",
    "    print(f\"'{pattern}' was not found.\")"
   ]
  },
  {
   "cell_type": "code",
   "execution_count": 31,
   "id": "43b9a1db",
   "metadata": {},
   "outputs": [
    {
     "name": "stdout",
     "output_type": "stream",
     "text": [
      "Found 'exercises' at (7, 16)\n",
      "Found 'exercises' at (22, 31)\n",
      "Found 'exercises' at (36, 45)\n"
     ]
    }
   ],
   "source": [
    "#QUESTION:17\n",
    "import re\n",
    "text = \"Python exercises, PHP exercises, C# exercises\"\n",
    "pattern = \"exercises\"\n",
    "regex = re.finditer(pattern, text)\n",
    "for match in regex:\n",
    "    print(f\"Found '{match.group()}' at ({match.start()}, {match.end()})\")"
   ]
  },
  {
   "cell_type": "code",
   "execution_count": 34,
   "id": "1922c3f8",
   "metadata": {},
   "outputs": [
    {
     "name": "stdout",
     "output_type": "stream",
     "text": [
      "Occurrence 1: Found 'exercises' at (7, 16)\n",
      "Occurrence 2: Found 'exercises' at (22, 31)\n",
      "Occurrence 3: Found 'exercises' at (36, 45)\n"
     ]
    }
   ],
   "source": [
    "#QUESTION:18\n",
    "text = \"Python exercises, PHP exercises, C# exercises\"\n",
    "pattern = \"exercises\"\n",
    "occurrences = [(i, match.group(), match.start(), match.end())\n",
    "               for i, match in enumerate(re.finditer(pattern, text))]\n",
    "for i, substring, start, end in occurrences:\n",
    "    print(f\"Occurrence {i + 1}: Found '{substring}' at ({start}, {end})\")"
   ]
  },
  {
   "cell_type": "code",
   "execution_count": 40,
   "id": "f7aa83d5",
   "metadata": {},
   "outputs": [
    {
     "name": "stdout",
     "output_type": "stream",
     "text": [
      "Original date: 2023-12-10\n",
      "Converted date: 10-12-2023\n"
     ]
    }
   ],
   "source": [
    "#QUESTION:19\n",
    "from datetime import datetime\n",
    "date = \"2023-12-10\"\n",
    "date_obj = datetime.strptime(date, \"%Y-%m-%d\")\n",
    "new_date_pattern= date_obj.strftime(\"%d-%m-%Y\")\n",
    "print(\"Original date: \"+date)\n",
    "print(\"Converted date: \"+new_date_pattern)    "
   ]
  },
  {
   "cell_type": "code",
   "execution_count": 45,
   "id": "ecd37add",
   "metadata": {},
   "outputs": [
    {
     "name": "stdout",
     "output_type": "stream",
     "text": [
      "Decimal numbers with precision 1 or 2: ['01.12', '0132.12', '2.31', '145.8', '3.01', '27.25', '0.25']\n"
     ]
    }
   ],
   "source": [
    "#QUESTION:20\n",
    "import re\n",
    "text = \"01.12 0132.123 2.31875 145.8 3.01 27.25 0.25\"\n",
    "pattern = re.compile(r\"\\d+\\.\\d{1,2}\")\n",
    "matches = pattern.findall(text)\n",
    "print(f\"Decimal numbers with precision 1 or 2: {matches}\")"
   ]
  },
  {
   "cell_type": "code",
   "execution_count": 69,
   "id": "6f9ba66e",
   "metadata": {},
   "outputs": [
    {
     "name": "stdout",
     "output_type": "stream",
     "text": [
      "Number 1: 1 at position 21\n",
      "Number 2: 2 at position 31\n",
      "Number 3: 3 at position 46\n"
     ]
    }
   ],
   "source": [
    "#QUESTION:21\n",
    "import re\n",
    "\n",
    "def find_numbers_with_position(text):\n",
    "    numbers = re.findall(r\"\\d+\", text)\n",
    "    for i, number in enumerate(numbers):\n",
    "        position = text.find(number)\n",
    "        print(f\"Number {i + 1}: {number} at position {position}\")\n",
    "text = \"This string contains 1 number, 2 numbers, and 3 numbers.\"\n",
    "find_numbers_with_position(text)"
   ]
  },
  {
   "cell_type": "code",
   "execution_count": 53,
   "id": "4ce55562",
   "metadata": {
    "scrolled": true
   },
   "outputs": [
    {
     "name": "stdout",
     "output_type": "stream",
     "text": [
      "Maximum number: 950\n"
     ]
    }
   ],
   "source": [
    "#QUESTION:22\n",
    "import re\n",
    "text = \"My marks in each semester are: 947, 896, 926, 524, 734, 950, 642\"\n",
    "pattern = r\"\\d+\"\n",
    "numbers = re.findall(pattern, text)\n",
    "numbers = [int(number) for number in numbers]\n",
    "max_number = max(numbers)\n",
    "print(f\"Maximum number: {max_number}\")"
   ]
  },
  {
   "cell_type": "code",
   "execution_count": 55,
   "id": "ab692946",
   "metadata": {},
   "outputs": [
    {
     "name": "stdout",
     "output_type": "stream",
     "text": [
      "Original text: RegularExpressionIsAnImportantTopicInPython\n",
      "Modified text: Regular Expression Is An Important Topic In Python\n"
     ]
    }
   ],
   "source": [
    "#QUESTION:23\n",
    "import re\n",
    "text = \"RegularExpressionIsAnImportantTopicInPython\"\n",
    "pattern = r\"(?<=[a-z])(?=[A-Z])\"\n",
    "modified_text = re.sub(pattern, \" \", text)\n",
    "print(f\"Original text: {text}\")\n",
    "print(\"Modified text: \"+modified_text)"
   ]
  },
  {
   "cell_type": "code",
   "execution_count": 58,
   "id": "5289f3fd",
   "metadata": {},
   "outputs": [
    {
     "name": "stdout",
     "output_type": "stream",
     "text": [
      "Sequence: This, Start index: 0, End index: 4\n",
      "Sequence: Text, Start index: 5, End index: 9\n",
      "Sequence: Has, Start index: 10, End index: 13\n",
      "Sequence: Some, Start index: 14, End index: 18\n",
      "Sequence: Upper, Start index: 19, End index: 24\n",
      "Sequence: Cased, Start index: 24, End index: 29\n",
      "Sequence: Words, Start index: 30, End index: 35\n"
     ]
    }
   ],
   "source": [
    "#QUESTION:24\n",
    "import re\n",
    "pattern = r\"(?P<sequence>[A-Z][a-z]+)\"\n",
    "text = \"This Text Has Some UpperCased Words.\"\n",
    "matches = re.finditer(pattern, text)\n",
    "for match in matches:\n",
    "    sequence = match.group(\"sequence\")\n",
    "    start_index = match.start()\n",
    "    end_index = match.end()\n",
    "    print(f\"Sequence: {sequence}, Start index: {start_index}, End index: {end_index}\")"
   ]
  },
  {
   "cell_type": "code",
   "execution_count": 72,
   "id": "cf806d3c",
   "metadata": {},
   "outputs": [
    {
     "name": "stdout",
     "output_type": "stream",
     "text": [
      "Original text: Hello hello world world\n",
      "Cleaned text: Hello hello world\n"
     ]
    }
   ],
   "source": [
    "#QUESTION:25\n",
    "import re\n",
    "text = \"Hello hello world world\"\n",
    "pattern = r\"\\b(\\w+)( \\1\\b)+\"\n",
    "cleaned_text = re.sub(pattern, r\"\\1\", text)\n",
    "print(f\"Original text: {text}\")\n",
    "print(f\"Cleaned text: {cleaned_text}\")"
   ]
  },
  {
   "cell_type": "code",
   "execution_count": 81,
   "id": "4c9418af",
   "metadata": {},
   "outputs": [
    {
     "name": "stdout",
     "output_type": "stream",
     "text": [
      "Enter a string: Tapas_\n",
      "'Tapas_' is valid. It ends with an alphanumeric character.\n"
     ]
    }
   ],
   "source": [
    "#QUESTION:26\n",
    "import re\n",
    "pattern = r\"\\w+$\"\n",
    "string = input(\"Enter a string: \")\n",
    "if re.match(pattern, string):\n",
    "    print(f\"'{string}' is valid. It ends with an alphanumeric character.\")\n",
    "else:\n",
    "    print(f\"'{string}' is invalid. It does not end with an alphanumeric character.\")"
   ]
  },
  {
   "cell_type": "code",
   "execution_count": 2,
   "id": "5b16b1db",
   "metadata": {},
   "outputs": [
    {
     "name": "stdout",
     "output_type": "stream",
     "text": [
      "Extracted hashtags: ['#Doltiwal', '#xyzabc', '#Demonetization']\n"
     ]
    }
   ],
   "source": [
    "#QUESTION:27\n",
    "import re\n",
    "text = \"\"\"RT @kapil_kausik: #Doltiwal I mean #xyzabc is \"hurt\" by #Demonetization as the same has rendered USELESS <ed><U+00A0><U+00BD><ed><U+00B1><U+0089> \"acquired funds\" No wo\"\"\"\n",
    "regex_pattern = r\"#\\w+\"\n",
    "hashtags = re.findall(regex_pattern, text)\n",
    "print(f\"Extracted hashtags: {hashtags}\")"
   ]
  },
  {
   "cell_type": "code",
   "execution_count": 7,
   "id": "5f5a147c",
   "metadata": {},
   "outputs": [
    {
     "name": "stdout",
     "output_type": "stream",
     "text": [
      "Cleaned text: @Jags123456 Bharat band on 28??<ed><ed>Those who are protesting #demonetization are all different party leaders\n"
     ]
    }
   ],
   "source": [
    "#QUESTION:28\n",
    "import re\n",
    "text = \"@Jags123456 Bharat band on 28??<ed><U+00A0><U+00BD><ed><U+00B8><U+0082>Those who are protesting #demonetization are all different party leaders\"\n",
    "pattern = r\"<U\\+(?:00A0|00BD|00B8|0082)>\"\n",
    "new_text = re.sub(pattern, \"\", text)\n",
    "print(\"Cleaned text: \"+new_text)"
   ]
  },
  {
   "cell_type": "code",
   "execution_count": 27,
   "id": "996bde17",
   "metadata": {},
   "outputs": [
    {
     "name": "stdout",
     "output_type": "stream",
     "text": [
      "Extracted dates: ['12-09-1992', '15-12-1999']\n"
     ]
    }
   ],
   "source": [
    "#QUESTION:29\n",
    "import re\n",
    "pattern = r\"\\d{2}-\\d{2}-\\d{4}\"\n",
    "with open(\"Question29.csv\", \"r\") as f:\n",
    "    text = f.read()\n",
    "    matches = re.findall(pattern, text)\n",
    "    if matches:\n",
    "        print(f\"Extracted dates: {matches}\")\n",
    "    else:\n",
    "        print(\"No dates found in the text.\")"
   ]
  },
  {
   "cell_type": "code",
   "execution_count": 10,
   "id": "82c6dd9f",
   "metadata": {},
   "outputs": [
    {
     "name": "stdout",
     "output_type": "stream",
     "text": [
      "Output:  following example creates  ArrayList  a capacity   elements. 4 elements   added   ArrayList   ArrayList  trimmed accordingly.\n"
     ]
    }
   ],
   "source": [
    "#QUESTION:30\n",
    "import re\n",
    "text = \"The following example creates an ArrayList with a capacity of 50 elements. 4 elements are then added to the ArrayList and the ArrayList is trimmed accordingly.\"\n",
    "pattern = r\"\\b\\w{2,4}\\b\"\n",
    "New_text = re.sub(pattern, \"\", text)\n",
    "print(\"Output: \"+New_text)"
   ]
  },
  {
   "cell_type": "code",
   "execution_count": null,
   "id": "201449d6",
   "metadata": {},
   "outputs": [],
   "source": []
  }
 ],
 "metadata": {
  "kernelspec": {
   "display_name": "Python 3 (ipykernel)",
   "language": "python",
   "name": "python3"
  },
  "language_info": {
   "codemirror_mode": {
    "name": "ipython",
    "version": 3
   },
   "file_extension": ".py",
   "mimetype": "text/x-python",
   "name": "python",
   "nbconvert_exporter": "python",
   "pygments_lexer": "ipython3",
   "version": "3.10.9"
  }
 },
 "nbformat": 4,
 "nbformat_minor": 5
}
